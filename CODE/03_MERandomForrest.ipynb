{
 "cells": [
  {
   "cell_type": "markdown",
   "metadata": {},
   "source": [
    "# EAST - circulating biomolecules sub-study - CBSS\n",
    "## mixed effect random forest"
   ]
  },
  {
   "cell_type": "code",
   "execution_count": 1,
   "metadata": {},
   "outputs": [],
   "source": [
    "# make imports\n",
    "import warnings\n",
    "import os\n",
    "import numpy as np\n",
    "import pandas as pd\n",
    "import math\n",
    "\n",
    "import seaborn as sns\n",
    "import matplotlib.pyplot as plt\n",
    "%matplotlib inline\n",
    "from sklearn.ensemble import RandomForestClassifier\n",
    "\n",
    "from merf import MERF\n",
    "\n",
    "import shap"
   ]
  },
  {
   "cell_type": "code",
   "execution_count": 2,
   "metadata": {},
   "outputs": [],
   "source": [
    "# load data\n",
    "biomarkers = pd.read_csv('../DATA/input/EAST_biomarker_ML.csv', sep=',', encoding='UTF8')\n",
    "file = \"../DATA/input/east_MI_data_04.dta\"\n",
    "EAST_MI_data = pd.read_stata(file)\n",
    "EAST_MI_data = EAST_MI_data.loc[EAST_MI_data['_mi_m'] == 0]"
   ]
  },
  {
   "cell_type": "code",
   "execution_count": 3,
   "metadata": {},
   "outputs": [],
   "source": [
    "# join outcomes\n",
    "biomarkers = biomarkers.set_index('PID').join(EAST_MI_data[['cid', '_mi_id', '_mi_miss', '_mi_m', 'heart_rhythm_BL', 'heart_rhythm_12', 'heart_rhythm_24', 'subjectnr', 'i_age_calc_10']].\\\n",
    "    set_index('subjectnr'))\\\n",
    "    .rename(columns={'heart_rhythm_BL': 'Cardiac rhythm at baseline',\n",
    "        'heart_rhythm_12': 'Cardiac rhythm at 12 months follow-up',\n",
    "                # 'heart_rhythm_24': 'Cardiac rhythm at 24 months follow-up',\n",
    "                'i_age_calc_10': 'age_10'}).reset_index()\n",
    "# feature engineering\n",
    "biomarkers.rename(columns={'age_10': 'Age per 10 years increase'}, inplace=True)\n",
    "biomarkers['CHA2DS2-Vasc Score'] = biomarkers['CHA2DS2-Vasc Score'].astype('int')\n",
    "conditions_nyha = [\n",
    "    (biomarkers['Heart failure (NYHA classification)'] == 'No heart failure'),\n",
    "    (biomarkers['Heart failure (NYHA classification)'] == 'I'),\n",
    "    (biomarkers['Heart failure (NYHA classification)'] == 'II'),\n",
    "    (biomarkers['Heart failure (NYHA classification)'] == 'III')\n",
    "    ]\n",
    "\n",
    "values_nyha = ['1', '2', '3', '4']\n",
    "\n",
    "biomarkers['Heart failure (NYHA classification)'] = np.select(conditions_nyha, values_nyha)\n",
    "\n",
    "conditions_EHRA = [\n",
    "    (biomarkers['EHRA score at baseline'] == 'EHRA I'),\n",
    "    (biomarkers['EHRA score at baseline'] == 'EHRA II'),\n",
    "    (biomarkers['EHRA score at baseline'] == 'EHRA III'),\n",
    "    (biomarkers['EHRA score at baseline'] == 'EHRA IV')\n",
    "    ]\n",
    "\n",
    "values_EHRA = ['1', '2', '3', '4']\n",
    "\n",
    "biomarkers['EHRA score at baseline'] = np.select(conditions_EHRA, values_EHRA)\n",
    "\n",
    "conditions_nights_class = [\n",
    "    biomarkers['Cognitive function (MoCA) at baseline '] >= 26,\n",
    "    biomarkers['Cognitive function (MoCA) at baseline '] < 26,\n",
    "]\n",
    "\n",
    "values_nights_class = [\n",
    "    'MoCa >= 26',\n",
    "    'MoCa < 26']\n",
    "\n",
    "biomarkers['Cognitive function (MoCA) at baseline category'] = np.select(conditions_nights_class, values_nights_class)\n",
    "\n",
    "conditions_MoCA = [\n",
    "    biomarkers['Cognitive function (MoCA) at baseline '] >= 26,\n",
    "    (biomarkers['Cognitive function (MoCA) at baseline '] >= 18) & (biomarkers['Cognitive function (MoCA) at baseline '] < 26),\n",
    "    (biomarkers['Cognitive function (MoCA) at baseline '] >= 10) & (biomarkers['Cognitive function (MoCA) at baseline '] < 18),\n",
    "    biomarkers['Cognitive function (MoCA) at baseline '] < 10,\n",
    "]\n",
    "\n",
    "values_MoCA= [\n",
    "    'None',\n",
    "    'Mild',\n",
    "    'Moderate',\n",
    "    'Severe']\n",
    "\n",
    "biomarkers['MoCA score'] = np.select(conditions_MoCA, values_MoCA)\n",
    "\n",
    "biomarkers['At least mild cognitive impairment'] = np.where(biomarkers['MoCA score'] != 'None', 'Yes', 'No')\n",
    "\n",
    "biomarkers['Cardiac rhythm at baseline binary'] = np.where(biomarkers['Cardiac rhythm at baseline'] == 'Sinus rhythm', 1, 0)\n",
    "biomarkers['Cardiac rhythm at 24 months follow-up binary'] = np.where(biomarkers['Cardiac rhythm at 24 months follow-up'] == 'Sinus rhythm', 1, 0)\n",
    "biomarkers['Cardiac rhythm at 12 months follow-up binary'] = np.where(biomarkers['Cardiac rhythm at 12 months follow-up'] == 'Sinus rhythm', 1, 0)\n",
    "biomarkers['sex'] = np.where(biomarkers['gender'] == 'Male', 'male', 'female')\n",
    "biomarkers.drop('gender', axis=1, inplace=True)"
   ]
  },
  {
   "cell_type": "code",
   "execution_count": 4,
   "metadata": {},
   "outputs": [],
   "source": [
    "biomarker = [\n",
    "'Interleukin-6',\n",
    "'NT-proBNP',\n",
    "'Troponin T high sensitive (cTnT-hs)',\n",
    "'Growth Differentiation Factor-15',\n",
    "'Cardiac C-Reactive Protein High Sensitive',\n",
    "'D-Dimer [Explicit units would be \"ug FEU/mL]',\n",
    "'Cancer-Antigen 125 (CA-125)',\n",
    "'Angiopoietin 2 (ANGPT2)',\n",
    "'Bone morphogenetic protein 10 (BMP10)',\n",
    "'Endothelial specific molecule 1 (ESM1)',\n",
    "'Fatty acid binding protein 3 (FABP3)',\n",
    "'Fibroblast growth factor 23 (FGF23)',\n",
    "'Insulin growth factor binding protein 7 (IGFBP7)',\n",
    "]"
   ]
  },
  {
   "cell_type": "code",
   "execution_count": 5,
   "metadata": {},
   "outputs": [],
   "source": [
    "# prepare data for rf\n",
    "y = biomarkers['Cardiac rhythm at 12 months follow-up binary']\n",
    "X = biomarkers[biomarker + ['Creatinine (enzymatic determination)',\n",
    "                            'age',\n",
    "                            'sex',\n",
    "                            'BMI',\n",
    "                            'Cardiac rhythm at baseline',\n",
    "                            'Random group', 'Atrial fibrillation type',\n",
    "                            'Diastolic blood pressure [mmHg]',\n",
    "                            'Left ventricular function at Baseline',\n",
    "                            'cid']]\n",
    "X = pd.get_dummies(X, drop_first=True)\n",
    "X['Random group_ERC'] = np.where(X['Random group_Usual care'] == 1, 0, 1)\n",
    "X.drop('Random group_Usual care', axis=1, inplace=True)"
   ]
  },
  {
   "cell_type": "code",
   "execution_count": null,
   "metadata": {},
   "outputs": [],
   "source": [
    "# fit rf\n",
    "rfc = RandomForestClassifier()\n",
    "merf_rfc = MERF(rfc, max_iterations=5)\n",
    "merf_rfc.fit(X.drop('cid', axis=1), X[['cid']], pd.Series(X['cid']), y)"
   ]
  },
  {
   "cell_type": "markdown",
   "metadata": {},
   "source": [
    "### Gini feature importance"
   ]
  },
  {
   "cell_type": "code",
   "execution_count": null,
   "metadata": {},
   "outputs": [],
   "source": [
    "sorted_idx = merf_rfc.trained_fe_model.feature_importances_.argsort()\n",
    "merf_result = pd.DataFrame(merf_rfc.trained_fe_model.feature_importances_).rename(columns={0: 'relative importance in %'})\n",
    "merf_result['variable'] = X.columns.drop('cid')\n",
    "merf_result['relative importance in %']  = merf_result['relative importance in %'] * 100\n",
    "\n",
    "sns.set_theme(style='whitegrid', palette='Set2', context=\"paper\", font_scale=3.0, rc={\"lines.linewidth\": 2.0})\n",
    "\n",
    "fig, ax = plt.subplots(nrows=1, ncols=1, figsize=(24, 18))\n",
    "sns.barplot(\n",
    "    data=merf_result.sort_values(by='relative importance in %', ascending=False), y=\"variable\", x=\"relative importance in %\", color='lightsteelblue', ax=ax\n",
    ")\n",
    "for i in np.arange(0.5, 22.5, 2):\n",
    "    plt.axhspan(i, i+1, facecolor='0.2', alpha=0.2)\n",
    "ax.set_title(\"MERF Gini importance (train dataset)\")\n",
    "fig.tight_layout()\n",
    "# plt.savefig(\"../DATA/output/merf_gini_importance.svg\", bbox_inches=\"tight\")\n",
    "plt.show()\n"
   ]
  },
  {
   "cell_type": "markdown",
   "metadata": {},
   "source": [
    "### SHAP feature importance"
   ]
  },
  {
   "cell_type": "code",
   "execution_count": null,
   "metadata": {},
   "outputs": [],
   "source": [
    "explainer = shap.Explainer(merf_rfc.trained_fe_model.predict, X.drop('cid', axis=1))\n",
    "shap_values = explainer(X.drop('cid', axis=1))"
   ]
  },
  {
   "cell_type": "code",
   "execution_count": 88,
   "metadata": {},
   "outputs": [],
   "source": [
    "# give pretty names for plotting\n",
    "shap_values.feature_names = [name.replace('AF-type_Persistent', 'AF-type: Persistent') for name in shap_values.feature_names]\n",
    "shap_values.feature_names = [name.replace('AF-type_Paroxysmal', 'AF-type: Paroxysmal') for name in shap_values.feature_names]\n",
    "shap_values.feature_names = [name.replace('sex_male', 'sex=male') for name in shap_values.feature_names]\n",
    "shap_values.feature_names = [name.replace('Random group_ERC', 'treatment type: ERC') for name in shap_values.feature_names]\n",
    "shap_values.feature_names = [name.replace('Cardiac-C-hs', 'CRP') for name in shap_values.feature_names]\n",
    "shap_values.feature_names = [name.replace('Creatinine (enzymatic determination)', 'sCr') for name in shap_values.feature_names]\n",
    "shap_values.feature_names = [name.replace('D-Dimer', 'DDimer') for name in shap_values.feature_names]\n",
    "shap_values.feature_names = [name.replace('TnT-hs', 'TnT') for name in shap_values.feature_names]\n",
    "shap_values.feature_names = [name.replace('Diastolic blood pressure [mmHg]', 'diastolic BP') for name in shap_values.feature_names]\n",
    "shap_values.feature_names = [name.replace('Left ventricular function at Baseline', 'LVEF') for name in shap_values.feature_names]\n",
    "shap_values.feature_names = [name.replace('Cardiac rhythm at baseline_Sinus rhythm', 'Sinus rhythm at BL') for name in shap_values.feature_names]"
   ]
  },
  {
   "cell_type": "code",
   "execution_count": null,
   "metadata": {},
   "outputs": [],
   "source": [
    "sns.set_theme(style='whitegrid')\n",
    "sns.set_context(\"paper\", font_scale=1.5, rc={\"lines.linewidth\": 2.0})\n",
    "\n",
    "fig, ax = plt.subplots(nrows=1, ncols=1, figsize=(8, 12))\n",
    "\n",
    "g = shap.plots.beeswarm(shap_values, max_display=25, show=False)\n",
    "\n",
    "fig.suptitle(\"merf - variable effect by SHAP \\n Sinus rhythm at 12 month FU\")\n",
    "fig.tight_layout()\n",
    "# plt.savefig(\"../DATA/output/shap_merf.svg\", bbox_inches=\"tight\")\n",
    "plt.show()"
   ]
  }
 ],
 "metadata": {
  "kernelspec": {
   "display_name": "Python 3",
   "language": "python",
   "name": "python3"
  },
  "language_info": {
   "codemirror_mode": {
    "name": "ipython",
    "version": 3
   },
   "file_extension": ".py",
   "mimetype": "text/x-python",
   "name": "python",
   "nbconvert_exporter": "python",
   "pygments_lexer": "ipython3",
   "version": "3.8.13"
  },
  "orig_nbformat": 4,
  "vscode": {
   "interpreter": {
    "hash": "ed432d249b154c478958611a2c15856db144705601d325e80707bb018b2e3d05"
   }
  }
 },
 "nbformat": 4,
 "nbformat_minor": 2
}
